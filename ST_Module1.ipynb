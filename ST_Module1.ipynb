{
  "nbformat": 4,
  "nbformat_minor": 0,
  "metadata": {
    "colab": {
      "name": "ST Module1.ipynb",
      "provenance": []
    },
    "kernelspec": {
      "name": "python3",
      "display_name": "Python 3"
    }
  },
  "cells": [
    {
      "cell_type": "code",
      "metadata": {
        "id": "aRDsMOq_3jXc"
      },
      "source": [
        ""
      ],
      "execution_count": 2,
      "outputs": []
    },
    {
      "cell_type": "markdown",
      "metadata": {
        "id": "hXiVu0BH5pp7"
      },
      "source": [
        ""
      ]
    },
    {
      "cell_type": "code",
      "metadata": {
        "colab": {
          "base_uri": "https://localhost:8080/"
        },
        "id": "rXUJyhOe5qTf",
        "outputId": "a7972edd-3556-451b-e179-98fef3d7ec43"
      },
      "source": [
        "print('first value') \r\n",
        "print('second value')"
      ],
      "execution_count": 4,
      "outputs": [
        {
          "output_type": "stream",
          "text": [
            "first value\n",
            "second value\n"
          ],
          "name": "stdout"
        }
      ]
    },
    {
      "cell_type": "markdown",
      "metadata": {
        "id": "cWe4FJ08566D"
      },
      "source": [
        "print('first value',1) \r\n",
        "print('second value',2)"
      ]
    },
    {
      "cell_type": "code",
      "metadata": {
        "colab": {
          "base_uri": "https://localhost:8080/"
        },
        "id": "SgYJAVnX6C2t",
        "outputId": "081b3fd8-c294-4975-f9fc-bca8aead7bcf"
      },
      "source": [
        "print('first value',1) \r\n",
        "print('second value',2)"
      ],
      "execution_count": 5,
      "outputs": [
        {
          "output_type": "stream",
          "text": [
            "first value 1\n",
            "second value 2\n"
          ],
          "name": "stdout"
        }
      ]
    },
    {
      "cell_type": "markdown",
      "metadata": {
        "id": "RPd2yZUj5D5x"
      },
      "source": [
        "print('first value')\r\n",
        "print('second value')"
      ]
    }
  ]
}